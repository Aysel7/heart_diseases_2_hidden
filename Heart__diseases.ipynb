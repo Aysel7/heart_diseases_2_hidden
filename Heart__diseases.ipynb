#Changed
{
 "cells": [
  {
   "cell_type": "code",
   "execution_count": 197,
   "id": "ed05736c",
   "metadata": {},
   "outputs": [],
   "source": [
    "import pandas as pd\n",
    "import numpy as np\n",
    "import torch\n",
    "from torch import nn\n",
    "from torch.utils.data import DataLoader\n",
    "from torchvision import datasets\n",
    "from torchvision.transforms import ToTensor, Lambda, Compose\n",
    "import matplotlib.pyplot as plt"
   ]
  },
  {
   "cell_type": "code",
   "execution_count": 198,
   "id": "ad53b304",
   "metadata": {},
   "outputs": [
    {
     "data": {
      "text/html": [
       "<div>\n",
       "<style scoped>\n",
       "    .dataframe tbody tr th:only-of-type {\n",
       "        vertical-align: middle;\n",
       "    }\n",
       "\n",
       "    .dataframe tbody tr th {\n",
       "        vertical-align: top;\n",
       "    }\n",
       "\n",
       "    .dataframe thead th {\n",
       "        text-align: right;\n",
       "    }\n",
       "</style>\n",
       "<table border=\"1\" class=\"dataframe\">\n",
       "  <thead>\n",
       "    <tr style=\"text-align: right;\">\n",
       "      <th></th>\n",
       "      <th>age</th>\n",
       "      <th>sex</th>\n",
       "      <th>chest_pain_type</th>\n",
       "      <th>resting_blood_pressure</th>\n",
       "      <th>cholesterol</th>\n",
       "      <th>fasting_blood_sugar</th>\n",
       "      <th>rest_ecg</th>\n",
       "      <th>max_heart_rate_achieved</th>\n",
       "      <th>exercise_induced_angina</th>\n",
       "      <th>st_depression</th>\n",
       "      <th>st_slope</th>\n",
       "      <th>num_major_vessels</th>\n",
       "      <th>thalassemia</th>\n",
       "      <th>target</th>\n",
       "    </tr>\n",
       "  </thead>\n",
       "  <tbody>\n",
       "    <tr>\n",
       "      <th>0</th>\n",
       "      <td>63</td>\n",
       "      <td>1</td>\n",
       "      <td>3</td>\n",
       "      <td>145</td>\n",
       "      <td>233</td>\n",
       "      <td>1</td>\n",
       "      <td>0</td>\n",
       "      <td>150</td>\n",
       "      <td>0</td>\n",
       "      <td>2.3</td>\n",
       "      <td>0</td>\n",
       "      <td>0</td>\n",
       "      <td>1</td>\n",
       "      <td>1</td>\n",
       "    </tr>\n",
       "    <tr>\n",
       "      <th>1</th>\n",
       "      <td>37</td>\n",
       "      <td>1</td>\n",
       "      <td>2</td>\n",
       "      <td>130</td>\n",
       "      <td>250</td>\n",
       "      <td>0</td>\n",
       "      <td>1</td>\n",
       "      <td>187</td>\n",
       "      <td>0</td>\n",
       "      <td>3.5</td>\n",
       "      <td>0</td>\n",
       "      <td>0</td>\n",
       "      <td>2</td>\n",
       "      <td>1</td>\n",
       "    </tr>\n",
       "    <tr>\n",
       "      <th>2</th>\n",
       "      <td>41</td>\n",
       "      <td>0</td>\n",
       "      <td>1</td>\n",
       "      <td>130</td>\n",
       "      <td>204</td>\n",
       "      <td>0</td>\n",
       "      <td>0</td>\n",
       "      <td>172</td>\n",
       "      <td>0</td>\n",
       "      <td>1.4</td>\n",
       "      <td>2</td>\n",
       "      <td>0</td>\n",
       "      <td>2</td>\n",
       "      <td>1</td>\n",
       "    </tr>\n",
       "    <tr>\n",
       "      <th>3</th>\n",
       "      <td>56</td>\n",
       "      <td>1</td>\n",
       "      <td>1</td>\n",
       "      <td>120</td>\n",
       "      <td>236</td>\n",
       "      <td>0</td>\n",
       "      <td>1</td>\n",
       "      <td>178</td>\n",
       "      <td>0</td>\n",
       "      <td>0.8</td>\n",
       "      <td>2</td>\n",
       "      <td>0</td>\n",
       "      <td>2</td>\n",
       "      <td>1</td>\n",
       "    </tr>\n",
       "    <tr>\n",
       "      <th>4</th>\n",
       "      <td>57</td>\n",
       "      <td>0</td>\n",
       "      <td>0</td>\n",
       "      <td>120</td>\n",
       "      <td>354</td>\n",
       "      <td>0</td>\n",
       "      <td>1</td>\n",
       "      <td>163</td>\n",
       "      <td>1</td>\n",
       "      <td>0.6</td>\n",
       "      <td>2</td>\n",
       "      <td>0</td>\n",
       "      <td>2</td>\n",
       "      <td>1</td>\n",
       "    </tr>\n",
       "    <tr>\n",
       "      <th>...</th>\n",
       "      <td>...</td>\n",
       "      <td>...</td>\n",
       "      <td>...</td>\n",
       "      <td>...</td>\n",
       "      <td>...</td>\n",
       "      <td>...</td>\n",
       "      <td>...</td>\n",
       "      <td>...</td>\n",
       "      <td>...</td>\n",
       "      <td>...</td>\n",
       "      <td>...</td>\n",
       "      <td>...</td>\n",
       "      <td>...</td>\n",
       "      <td>...</td>\n",
       "    </tr>\n",
       "    <tr>\n",
       "      <th>298</th>\n",
       "      <td>57</td>\n",
       "      <td>0</td>\n",
       "      <td>0</td>\n",
       "      <td>140</td>\n",
       "      <td>241</td>\n",
       "      <td>0</td>\n",
       "      <td>1</td>\n",
       "      <td>123</td>\n",
       "      <td>1</td>\n",
       "      <td>0.2</td>\n",
       "      <td>1</td>\n",
       "      <td>0</td>\n",
       "      <td>3</td>\n",
       "      <td>0</td>\n",
       "    </tr>\n",
       "    <tr>\n",
       "      <th>299</th>\n",
       "      <td>45</td>\n",
       "      <td>1</td>\n",
       "      <td>3</td>\n",
       "      <td>110</td>\n",
       "      <td>264</td>\n",
       "      <td>0</td>\n",
       "      <td>1</td>\n",
       "      <td>132</td>\n",
       "      <td>0</td>\n",
       "      <td>1.2</td>\n",
       "      <td>1</td>\n",
       "      <td>0</td>\n",
       "      <td>3</td>\n",
       "      <td>0</td>\n",
       "    </tr>\n",
       "    <tr>\n",
       "      <th>300</th>\n",
       "      <td>68</td>\n",
       "      <td>1</td>\n",
       "      <td>0</td>\n",
       "      <td>144</td>\n",
       "      <td>193</td>\n",
       "      <td>1</td>\n",
       "      <td>1</td>\n",
       "      <td>141</td>\n",
       "      <td>0</td>\n",
       "      <td>3.4</td>\n",
       "      <td>1</td>\n",
       "      <td>2</td>\n",
       "      <td>3</td>\n",
       "      <td>0</td>\n",
       "    </tr>\n",
       "    <tr>\n",
       "      <th>301</th>\n",
       "      <td>57</td>\n",
       "      <td>1</td>\n",
       "      <td>0</td>\n",
       "      <td>130</td>\n",
       "      <td>131</td>\n",
       "      <td>0</td>\n",
       "      <td>1</td>\n",
       "      <td>115</td>\n",
       "      <td>1</td>\n",
       "      <td>1.2</td>\n",
       "      <td>1</td>\n",
       "      <td>1</td>\n",
       "      <td>3</td>\n",
       "      <td>0</td>\n",
       "    </tr>\n",
       "    <tr>\n",
       "      <th>302</th>\n",
       "      <td>57</td>\n",
       "      <td>0</td>\n",
       "      <td>1</td>\n",
       "      <td>130</td>\n",
       "      <td>236</td>\n",
       "      <td>0</td>\n",
       "      <td>0</td>\n",
       "      <td>174</td>\n",
       "      <td>0</td>\n",
       "      <td>0.0</td>\n",
       "      <td>1</td>\n",
       "      <td>1</td>\n",
       "      <td>2</td>\n",
       "      <td>0</td>\n",
       "    </tr>\n",
       "  </tbody>\n",
       "</table>\n",
       "<p>303 rows × 14 columns</p>\n",
       "</div>"
      ],
      "text/plain": [
       "     age  sex  chest_pain_type  resting_blood_pressure  cholesterol  \\\n",
       "0     63    1                3                     145          233   \n",
       "1     37    1                2                     130          250   \n",
       "2     41    0                1                     130          204   \n",
       "3     56    1                1                     120          236   \n",
       "4     57    0                0                     120          354   \n",
       "..   ...  ...              ...                     ...          ...   \n",
       "298   57    0                0                     140          241   \n",
       "299   45    1                3                     110          264   \n",
       "300   68    1                0                     144          193   \n",
       "301   57    1                0                     130          131   \n",
       "302   57    0                1                     130          236   \n",
       "\n",
       "     fasting_blood_sugar  rest_ecg  max_heart_rate_achieved  \\\n",
       "0                      1         0                      150   \n",
       "1                      0         1                      187   \n",
       "2                      0         0                      172   \n",
       "3                      0         1                      178   \n",
       "4                      0         1                      163   \n",
       "..                   ...       ...                      ...   \n",
       "298                    0         1                      123   \n",
       "299                    0         1                      132   \n",
       "300                    1         1                      141   \n",
       "301                    0         1                      115   \n",
       "302                    0         0                      174   \n",
       "\n",
       "     exercise_induced_angina  st_depression  st_slope  num_major_vessels  \\\n",
       "0                          0            2.3         0                  0   \n",
       "1                          0            3.5         0                  0   \n",
       "2                          0            1.4         2                  0   \n",
       "3                          0            0.8         2                  0   \n",
       "4                          1            0.6         2                  0   \n",
       "..                       ...            ...       ...                ...   \n",
       "298                        1            0.2         1                  0   \n",
       "299                        0            1.2         1                  0   \n",
       "300                        0            3.4         1                  2   \n",
       "301                        1            1.2         1                  1   \n",
       "302                        0            0.0         1                  1   \n",
       "\n",
       "     thalassemia  target  \n",
       "0              1       1  \n",
       "1              2       1  \n",
       "2              2       1  \n",
       "3              2       1  \n",
       "4              2       1  \n",
       "..           ...     ...  \n",
       "298            3       0  \n",
       "299            3       0  \n",
       "300            3       0  \n",
       "301            3       0  \n",
       "302            2       0  \n",
       "\n",
       "[303 rows x 14 columns]"
      ]
     },
     "execution_count": 198,
     "metadata": {},
     "output_type": "execute_result"
    }
   ],
   "source": [
    "data = pd.read_csv(\"heart_disease_dataset.csv\", sep=\";\")\n",
    "df= data.copy()\n",
    "df"
   ]
  },
  {
   "cell_type": "code",
   "execution_count": 199,
   "id": "e0b89a78",
   "metadata": {},
   "outputs": [
    {
     "data": {
      "text/plain": [
       "age                        0\n",
       "sex                        0\n",
       "chest_pain_type            0\n",
       "resting_blood_pressure     0\n",
       "cholesterol                0\n",
       "fasting_blood_sugar        0\n",
       "rest_ecg                   0\n",
       "max_heart_rate_achieved    0\n",
       "exercise_induced_angina    0\n",
       "st_depression              0\n",
       "st_slope                   0\n",
       "num_major_vessels          0\n",
       "thalassemia                0\n",
       "target                     0\n",
       "dtype: int64"
      ]
     },
     "execution_count": 199,
     "metadata": {},
     "output_type": "execute_result"
    }
   ],
   "source": [
    "df.isnull().sum()"
   ]
  },
  {
   "cell_type": "code",
   "execution_count": 200,
   "id": "30c98ab8",
   "metadata": {},
   "outputs": [],
   "source": [
    "X= df.drop(\"target\",axis=1)\n",
    "y=np.array(df.target)"
   ]
  },
  {
   "cell_type": "code",
   "execution_count": 201,
   "id": "c26eb94f",
   "metadata": {},
   "outputs": [
    {
     "data": {
      "text/plain": [
       "target\n",
       "1    165\n",
       "0    138\n",
       "Name: count, dtype: int64"
      ]
     },
     "execution_count": 201,
     "metadata": {},
     "output_type": "execute_result"
    }
   ],
   "source": [
    "df.target.value_counts()"
   ]
  },
  {
   "cell_type": "code",
   "execution_count": 202,
   "id": "f7e22b39",
   "metadata": {},
   "outputs": [],
   "source": [
    "from sklearn.preprocessing import RobustScaler"
   ]
  },
  {
   "cell_type": "code",
   "execution_count": 203,
   "id": "5c04864c",
   "metadata": {},
   "outputs": [],
   "source": [
    "scaler = RobustScaler()\n",
    "X = scaler.fit_transform(X)"
   ]
  },
  {
   "cell_type": "code",
   "execution_count": 204,
   "id": "75610699",
   "metadata": {},
   "outputs": [],
   "source": [
    "from sklearn.model_selection import train_test_split"
   ]
  },
  {
   "cell_type": "code",
   "execution_count": 205,
   "id": "e36bca99",
   "metadata": {},
   "outputs": [],
   "source": [
    "X_train,X_test,y_train,y_test = train_test_split(X,y,random_state=101, stratify=y,test_size=0.2)"
   ]
  },
  {
   "cell_type": "code",
   "execution_count": 206,
   "id": "c9bf4772",
   "metadata": {
    "scrolled": true
   },
   "outputs": [
    {
     "name": "stdout",
     "output_type": "stream",
     "text": [
      "(242, 13)\n",
      "(61, 13)\n",
      "(242,)\n",
      "(61,)\n"
     ]
    }
   ],
   "source": [
    "print(X_train.shape)\n",
    "print(X_test.shape)\n",
    "print(y_train.shape)\n",
    "print(y_test.shape)"
   ]
  },
  {
   "cell_type": "markdown",
   "id": "dec261a9",
   "metadata": {},
   "source": [
    "# DEEP LEARNING "
   ]
  },
  {
   "cell_type": "code",
   "execution_count": 207,
   "id": "f2e1b884",
   "metadata": {},
   "outputs": [],
   "source": [
    "import torch #tensorlari operation ucun \n",
    "from torch import nn # arxitektura qurmagcun\n",
    "import torch.nn.functional as F #funksiyalar ucun\n",
    "import torch.optim as optim #optimization ucun\n",
    "from torch.utils.data import TensorDataset, DataLoader # tendat hisse hisse birlesdirsin datloa modelin icine atsin"
   ]
  },
  {
   "cell_type": "markdown",
   "id": "caff1741",
   "metadata": {},
   "source": [
    "# 1.converting arrays to tensors"
   ]
  },
  {
   "cell_type": "code",
   "execution_count": 208,
   "id": "a6a6e22d",
   "metadata": {},
   "outputs": [],
   "source": [
    "X_train = torch.from_numpy(X_train).float() #numoydan torcha ve floata \n",
    "X_test = torch.from_numpy(X_test).float() #normalda torch.tensor isledecik\n",
    "y_train = torch.from_numpy(y_train).float() #float olanda addimlari kicik olur\n",
    "y_test = torch.from_numpy(y_test).float() #integer olsa boyuk addimlar olur"
   ]
  },
  {
   "cell_type": "code",
   "execution_count": 209,
   "id": "0d3ccda6",
   "metadata": {},
   "outputs": [
    {
     "data": {
      "text/plain": [
       "tensor([1., 0., 0., 1., 0., 1., 1., 0., 1., 1., 1., 0., 0., 0., 0., 0., 0., 0.,\n",
       "        1., 0., 1., 0., 1., 0., 1., 1., 0., 1., 0., 0., 1., 1., 1., 0., 1., 0.,\n",
       "        1., 1., 1., 1., 1., 1., 0., 1., 0., 1., 1., 1., 1., 1., 1., 0., 0., 0.,\n",
       "        1., 0., 0., 0., 1., 0., 0., 1., 0., 1., 1., 1., 0., 0., 1., 1., 1., 0.,\n",
       "        0., 0., 0., 0., 1., 0., 1., 0., 0., 0., 0., 1., 0., 1., 0., 0., 1., 0.,\n",
       "        1., 1., 0., 1., 0., 1., 1., 0., 0., 1., 0., 1., 1., 0., 0., 0., 0., 1.,\n",
       "        1., 1., 1., 1., 0., 0., 0., 1., 1., 0., 0., 1., 0., 0., 0., 1., 1., 1.,\n",
       "        1., 0., 1., 1., 1., 1., 1., 1., 0., 0., 1., 1., 1., 1., 1., 1., 1., 1.,\n",
       "        1., 0., 1., 0., 0., 0., 1., 1., 1., 0., 1., 0., 0., 0., 0., 0., 1., 0.,\n",
       "        0., 0., 0., 1., 0., 0., 1., 1., 0., 0., 1., 1., 1., 1., 1., 1., 1., 0.,\n",
       "        1., 0., 1., 0., 1., 0., 1., 1., 0., 1., 0., 1., 0., 1., 1., 1., 0., 1.,\n",
       "        1., 0., 1., 1., 1., 0., 1., 0., 1., 1., 1., 1., 1., 1., 0., 0., 1., 1.,\n",
       "        0., 0., 0., 0., 0., 1., 1., 0., 0., 1., 0., 1., 1., 1., 1., 0., 0., 0.,\n",
       "        1., 1., 0., 1., 1., 1., 1., 0.])"
      ]
     },
     "execution_count": 209,
     "metadata": {},
     "output_type": "execute_result"
    }
   ],
   "source": [
    "y_train #gorduk tensora cevirdi hamsini "
   ]
  },
  {
   "cell_type": "markdown",
   "id": "13c1481e",
   "metadata": {},
   "source": [
    "# 2. creating a tensor dataset"
   ]
  },
  {
   "cell_type": "code",
   "execution_count": 210,
   "id": "672a950c",
   "metadata": {},
   "outputs": [],
   "source": [
    "train_dataset = TensorDataset (X_train, y_train)\n",
    "test_dataset = TensorDataset (X_test, y_test)"
   ]
  },
  {
   "cell_type": "code",
   "execution_count": 211,
   "id": "37f582ea",
   "metadata": {},
   "outputs": [
    {
     "data": {
      "text/plain": [
       "<torch.utils.data.dataset.TensorDataset at 0x2773c7312a0>"
      ]
     },
     "execution_count": 211,
     "metadata": {},
     "output_type": "execute_result"
    }
   ],
   "source": [
    "train_dataset #tensor datasetimiz var artiq [0] yazsaq 0inci x i getirecey [:][0] xlarin hamisin"
   ]
  },
  {
   "cell_type": "code",
   "execution_count": 212,
   "id": "d127fc8d",
   "metadata": {},
   "outputs": [
    {
     "data": {
      "text/plain": [
       "(tensor([-0.9630,  0.0000,  0.5000,  0.0000, -0.9449,  0.0000,  0.0000, -0.0923,\n",
       "          0.0000, -0.5000,  1.0000,  0.0000,  0.0000]),\n",
       " tensor(1.))"
      ]
     },
     "execution_count": 212,
     "metadata": {},
     "output_type": "execute_result"
    }
   ],
   "source": [
    "train_dataset[0] #x ler 1 ise y"
   ]
  },
  {
   "cell_type": "markdown",
   "id": "fcbcac77",
   "metadata": {},
   "source": [
    "# 3. creating a data loader"
   ]
  },
  {
   "cell_type": "code",
   "execution_count": 213,
   "id": "6d3ff664",
   "metadata": {},
   "outputs": [],
   "source": [
    "train_loader = DataLoader (train_dataset,batch_size=64, shuffle = True) #64 setr\n",
    "test_loader = DataLoader(test_dataset, shuffle = True) #test boyuk deyil deye size qoymuruq"
   ]
  },
  {
   "cell_type": "code",
   "execution_count": 214,
   "id": "fbee918c",
   "metadata": {},
   "outputs": [
    {
     "name": "stdout",
     "output_type": "stream",
     "text": [
      "torch.Size([64, 13])\n"
     ]
    }
   ],
   "source": [
    "for i in train_loader:\n",
    "    print(i[:][0].shape)\n",
    "    break"
   ]
  },
  {
   "cell_type": "markdown",
   "id": "9f51b980",
   "metadata": {},
   "source": [
    "# 4. Defining model arcitecture"
   ]
  },
  {
   "cell_type": "code",
   "execution_count": 296,
   "id": "f7298251",
   "metadata": {},
   "outputs": [],
   "source": [
    "class Model(nn.Module): #tekse Model soznu deyse bilersen hamsi standartdi\n",
    "    def __init__(self):\n",
    "        super(Model, self).__init__()  #istenilen deeplearn modeli quranda bu uc kodu kopyala\n",
    "        #nn linear yeni hamsi bir birne qosulur qrafikdeki kimi\n",
    "        \n",
    "        self.fc1 = nn.Linear(13,50) #13 X say sutub input 1ci kubik. 64 neyron sayi 2ci kubikler\n",
    "       # self.fc2 = nn.Linear(100,150) #fc2 addi asagidaki 100 u 30 etmeliyem\n",
    "       # self.fc3 = nn.Linear(150,50)\n",
    "        self.out = nn.Linear(50,1) # 1 outputumdu sonuncu kubik\n",
    "        \n",
    "    def forward(self,X): # X giren 13 sutunumdu ASAGDAKI RELU FUNK 2CI KUBIKLERDEDI\n",
    "        X =F.relu(self.fc1(X)) #100 neyronnan 13u hesablanacaq #f relu aktivlesdirme funksiyasi cemliyecey 1 netice qayidacaq bize\n",
    "        #X =F.tanh(self.fc1(X))\n",
    "       # X = F.relu(self.fc2(X))\n",
    "       # X = F.tanh(self.fc2(X))\n",
    "      #  X = F.relu(self.fc3(X))\n",
    "        X = self.out(X) #neticem outputum\n",
    "        return X"
   ]
  },
  {
   "cell_type": "code",
   "execution_count": 297,
   "id": "a3ea4069",
   "metadata": {},
   "outputs": [],
   "source": [
    "model = Model() #MODELI CAGIRRIRAM"
   ]
  },
  {
   "cell_type": "code",
   "execution_count": 298,
   "id": "3e03b20d",
   "metadata": {},
   "outputs": [
    {
     "data": {
      "text/plain": [
       "Model(\n",
       "  (fc1): Linear(in_features=13, out_features=50, bias=True)\n",
       "  (out): Linear(in_features=50, out_features=1, bias=True)\n",
       ")"
      ]
     },
     "execution_count": 298,
     "metadata": {},
     "output_type": "execute_result"
    }
   ],
   "source": [
    "model"
   ]
  },
  {
   "cell_type": "code",
   "execution_count": 299,
   "id": "7ce16625",
   "metadata": {},
   "outputs": [],
   "source": [
    "def get_n_params(model): #modelde nece parametr varsa baxaq vacib deyl\n",
    "    pp=0\n",
    "    for p in list(model.parameters()):\n",
    "        nn=1\n",
    "        for s in list(p.size()):\n",
    "            nn = nn*s\n",
    "        pp += nn\n",
    "    return pp"
   ]
  },
  {
   "cell_type": "code",
   "execution_count": 300,
   "id": "428bb03c",
   "metadata": {},
   "outputs": [
    {
     "data": {
      "text/plain": [
       "751"
      ]
     },
     "execution_count": 300,
     "metadata": {},
     "output_type": "execute_result"
    }
   ],
   "source": [
    "get_n_params(model)"
   ]
  },
  {
   "cell_type": "code",
   "execution_count": 301,
   "id": "2150b4bf",
   "metadata": {},
   "outputs": [],
   "source": [
    "#parametrleri qeyd edey necesi ne etsin\n",
    "num_epochs =20 #15 defe qayitsin w nni deyissin yeni\n",
    "lr_rate =0.3 # her qayidanda bu qeder addim artsin\n",
    "criterion = nn.BCEWithLogitsLoss() # eger yuxarda sigmoit qoysaydim burda BCEloss olacaqdi\n",
    "#eger yuxarda 1 yox 2 ya 3 output qoysadim Crosfs neyse basqa errror funksiyasi yazacaqdiq\n",
    "#eger y imiz regresiya olsaydi MSi\n",
    "optimizer = optim.SGD(model.parameters(), lr = lr_rate) #optimallasdrma funk. SGD madelin parametrini deyisir "
   ]
  },
  {
   "cell_type": "code",
   "execution_count": 302,
   "id": "59f3cf2a",
   "metadata": {},
   "outputs": [],
   "source": [
    "#model yavas run olunur istyrem her etapda neticeni gostersin\n",
    "\n",
    "def binary_acc(y_pred, y_test):\n",
    "    y_pred_tag = torch.round(torch.sigmoid(y_pred)) #duzgun cvblarim sayi test in cvbi predin cvbna beraber olanda \n",
    "    correct_results_sum = (y_pred_tag == y_test).sum().float() # duzgun cvb bol umumi cvblar \n",
    "    acc = correct_results_sum / y_test.shape[0]\n",
    "    acc = torch.round(acc*100)\n",
    "    return acc"
   ]
  },
  {
   "cell_type": "markdown",
   "id": "c994fe34",
   "metadata": {},
   "source": [
    "# 5. Training the model"
   ]
  },
  {
   "cell_type": "code",
   "execution_count": 310,
   "id": "abd50930",
   "metadata": {},
   "outputs": [
    {
     "name": "stdout",
     "output_type": "stream",
     "text": [
      "Epoch: 001|Loss:0.07611|Acc: 22.250\n",
      "Epoch: 001|Loss:0.15640|Acc: 44.500\n",
      "Epoch: 001|Loss:0.23090|Acc: 65.500\n",
      "Epoch: 001|Loss:0.27997|Acc: 89.500\n",
      "Epoch: 002|Loss:0.06987|Acc: 21.500\n",
      "Epoch: 002|Loss:0.14938|Acc: 42.500\n",
      "Epoch: 002|Loss:0.21146|Acc: 66.000\n",
      "Epoch: 002|Loss:0.28081|Acc: 88.500\n",
      "Epoch: 003|Loss:0.06766|Acc: 22.250\n",
      "Epoch: 003|Loss:0.13577|Acc: 44.500\n",
      "Epoch: 003|Loss:0.21327|Acc: 65.500\n",
      "Epoch: 003|Loss:0.28332|Acc: 88.000\n",
      "Epoch: 004|Loss:0.06322|Acc: 23.500\n",
      "Epoch: 004|Loss:0.14317|Acc: 44.500\n",
      "Epoch: 004|Loss:0.21802|Acc: 66.500\n",
      "Epoch: 004|Loss:0.27750|Acc: 88.000\n",
      "Epoch: 005|Loss:0.07689|Acc: 22.250\n",
      "Epoch: 005|Loss:0.14102|Acc: 44.250\n",
      "Epoch: 005|Loss:0.21672|Acc: 65.750\n",
      "Epoch: 005|Loss:0.27634|Acc: 88.250\n",
      "Epoch: 006|Loss:0.05332|Acc: 23.750\n",
      "Epoch: 006|Loss:0.10491|Acc: 46.000\n",
      "Epoch: 006|Loss:0.21030|Acc: 66.250\n",
      "Epoch: 006|Loss:0.27660|Acc: 88.750\n",
      "Epoch: 007|Loss:0.06177|Acc: 22.250\n",
      "Epoch: 007|Loss:0.13863|Acc: 44.250\n",
      "Epoch: 007|Loss:0.19933|Acc: 66.500\n",
      "Epoch: 007|Loss:0.27614|Acc: 88.000\n",
      "Epoch: 008|Loss:0.06548|Acc: 23.000\n",
      "Epoch: 008|Loss:0.13836|Acc: 44.500\n",
      "Epoch: 008|Loss:0.19921|Acc: 66.750\n",
      "Epoch: 008|Loss:0.28130|Acc: 87.750\n",
      "Epoch: 009|Loss:0.07444|Acc: 21.000\n",
      "Epoch: 009|Loss:0.13977|Acc: 44.000\n",
      "Epoch: 009|Loss:0.20152|Acc: 66.250\n",
      "Epoch: 009|Loss:0.27113|Acc: 88.750\n",
      "Epoch: 010|Loss:0.08083|Acc: 21.500\n",
      "Epoch: 010|Loss:0.14915|Acc: 43.750\n",
      "Epoch: 010|Loss:0.20290|Acc: 66.500\n",
      "Epoch: 010|Loss:0.27212|Acc: 88.500\n",
      "Epoch: 011|Loss:0.04248|Acc: 23.000\n",
      "Epoch: 011|Loss:0.13293|Acc: 44.000\n",
      "Epoch: 011|Loss:0.19253|Acc: 66.250\n",
      "Epoch: 011|Loss:0.27175|Acc: 88.250\n",
      "Epoch: 012|Loss:0.08409|Acc: 21.000\n",
      "Epoch: 012|Loss:0.15040|Acc: 43.250\n",
      "Epoch: 012|Loss:0.20906|Acc: 66.000\n",
      "Epoch: 012|Loss:0.26454|Acc: 88.500\n",
      "Epoch: 013|Loss:0.05738|Acc: 22.750\n",
      "Epoch: 013|Loss:0.15302|Acc: 43.500\n",
      "Epoch: 013|Loss:0.20658|Acc: 66.250\n",
      "Epoch: 013|Loss:0.26364|Acc: 89.250\n",
      "Epoch: 014|Loss:0.05184|Acc: 23.000\n",
      "Epoch: 014|Loss:0.12269|Acc: 44.500\n",
      "Epoch: 014|Loss:0.18850|Acc: 67.250\n",
      "Epoch: 014|Loss:0.26752|Acc: 88.250\n",
      "Epoch: 015|Loss:0.07397|Acc: 22.250\n",
      "Epoch: 015|Loss:0.14455|Acc: 44.500\n",
      "Epoch: 015|Loss:0.19450|Acc: 68.000\n",
      "Epoch: 015|Loss:0.26482|Acc: 89.000\n",
      "Epoch: 016|Loss:0.07495|Acc: 22.750\n",
      "Epoch: 016|Loss:0.12264|Acc: 45.750\n",
      "Epoch: 016|Loss:0.20456|Acc: 66.500\n",
      "Epoch: 016|Loss:0.26006|Acc: 89.500\n",
      "Epoch: 017|Loss:0.05679|Acc: 23.000\n",
      "Epoch: 017|Loss:0.08903|Acc: 46.750\n",
      "Epoch: 017|Loss:0.16910|Acc: 67.750\n",
      "Epoch: 017|Loss:0.26878|Acc: 89.250\n",
      "Epoch: 018|Loss:0.04934|Acc: 23.500\n",
      "Epoch: 018|Loss:0.11593|Acc: 46.250\n",
      "Epoch: 018|Loss:0.19193|Acc: 67.750\n",
      "Epoch: 018|Loss:0.25845|Acc: 90.250\n",
      "Epoch: 019|Loss:0.07259|Acc: 22.000\n",
      "Epoch: 019|Loss:0.14500|Acc: 43.500\n",
      "Epoch: 019|Loss:0.20696|Acc: 66.250\n",
      "Epoch: 019|Loss:0.25424|Acc: 89.750\n",
      "Epoch: 020|Loss:0.05878|Acc: 22.750\n",
      "Epoch: 020|Loss:0.12109|Acc: 45.500\n",
      "Epoch: 020|Loss:0.19333|Acc: 68.250\n",
      "Epoch: 020|Loss:0.25514|Acc: 89.750\n"
     ]
    }
   ],
   "source": [
    "model.train() #modelim train tabinda oldgnu bilsin\n",
    "for e in range(1, num_epochs+1): #print edende 0dan yox 1den baslasin\n",
    "    epoch_loss = 0  #baslyanda xetam 0 di\n",
    "    epoch_acc = 0 #baslyanda accuracy 0di\n",
    "    for X_batch, y_batch in train_loader: \n",
    "        optimizer.zero_grad() #sekil cekir herdefe silib yeniden ceksin deye\n",
    "        y_pred = model(X_batch)\n",
    "        \n",
    "        loss = criterion(y_pred.flatten(), y_batch.flatten().float()) #xetami tapiram flatten duzlesdriri tek setr  olssun\n",
    "        acc = binary_acc(y_pred.flatten(),y_batch.flatten().float())\n",
    "\n",
    "        loss.backward() #xetani los tapir backward toremelerini tapir\n",
    "        optimizer.step() #bu da return edir xetani deuzlemeye calisir\n",
    "        \n",
    "        epoch_loss += loss.item()\n",
    "        epoch_acc += acc.item()\n",
    "        print(f'Epoch: {e+0:03}|Loss:{epoch_loss/len(train_loader):.5f}|Acc: {epoch_acc/len(train_loader):.3f}')"
   ]
  },
  {
   "cell_type": "markdown",
   "id": "a079558b",
   "metadata": {},
   "source": [
    "# 6.Testing model"
   ]
  },
  {
   "cell_type": "code",
   "execution_count": 311,
   "id": "20cfca19",
   "metadata": {},
   "outputs": [],
   "source": [
    "y_pred_list = []\n",
    "model.eval()\n",
    "with torch.no_grad(): #geri qayitmasin testi deye\n",
    "    for X_batch, y_batch in test_loader:\n",
    "        torch.no_grad() \n",
    "        y_test_pred = model(X_batch)\n",
    "        y_test_pred = torch.sigmoid(y_test_pred)\n",
    "        y_pred_tag = torch.round(y_test_pred)\n",
    "        y_pred_list.append(y_pred_tag.numpy())\n",
    "y_pred_list = [a.squeeze().tolist() for a in y_pred_list]"
   ]
  },
  {
   "cell_type": "markdown",
   "id": "6b5e0ac8",
   "metadata": {},
   "source": [
    "# 7.Evaluating the model"
   ]
  },
  {
   "cell_type": "code",
   "execution_count": 312,
   "id": "f549a020",
   "metadata": {},
   "outputs": [],
   "source": [
    "from sklearn.metrics import confusion_matrix\n",
    "from sklearn.metrics import classification_report"
   ]
  },
  {
   "cell_type": "code",
   "execution_count": 313,
   "id": "0c44619a",
   "metadata": {},
   "outputs": [
    {
     "name": "stdout",
     "output_type": "stream",
     "text": [
      "[[13 15]\n",
      " [15 18]]\n"
     ]
    }
   ],
   "source": [
    "print(confusion_matrix(y_test, y_pred_list))"
   ]
  },
  {
   "cell_type": "code",
   "execution_count": 314,
   "id": "e471174c",
   "metadata": {},
   "outputs": [
    {
     "name": "stdout",
     "output_type": "stream",
     "text": [
      "              precision    recall  f1-score   support\n",
      "\n",
      "         0.0       0.46      0.46      0.46        28\n",
      "         1.0       0.55      0.55      0.55        33\n",
      "\n",
      "    accuracy                           0.51        61\n",
      "   macro avg       0.50      0.50      0.50        61\n",
      "weighted avg       0.51      0.51      0.51        61\n",
      "\n"
     ]
    }
   ],
   "source": [
    "print(classification_report(y_test, y_pred_list))"
   ]
  },
  {
   "cell_type": "code",
   "execution_count": null,
   "id": "fb197459",
   "metadata": {},
   "outputs": [],
   "source": []
  }
 ],
 "metadata": {
  "kernelspec": {
   "display_name": "Python 3 (ipykernel)",
   "language": "python",
   "name": "python3"
  },
  "language_info": {
   "codemirror_mode": {
    "name": "ipython",
    "version": 3
   },
   "file_extension": ".py",
   "mimetype": "text/x-python",
   "name": "python",
   "nbconvert_exporter": "python",
   "pygments_lexer": "ipython3",
   "version": "3.10.9"
  }
 },
 "nbformat": 4,
 "nbformat_minor": 5
}
